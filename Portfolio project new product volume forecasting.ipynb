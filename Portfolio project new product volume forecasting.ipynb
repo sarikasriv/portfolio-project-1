{
 "cells": [
  {
   "cell_type": "code",
   "execution_count": null,
   "id": "4b7849b0-f1bf-4041-983a-a2c717be8ce7",
   "metadata": {},
   "outputs": [],
   "source": [
    "import pandas as pd\n",
    "import numpy as np\n",
    "from sklearn.model_selection import train_test_split\n",
    "from sklearn.preprocessing import MinMaxScaler\n",
    "from pmdarima import auto_arima\n",
    "from sklearn.metrics import mean_squared_error"
   ]
  },
  {
   "cell_type": "code",
   "execution_count": null,
   "id": "477c9485-7c53-41c7-999e-b42011c6761f",
   "metadata": {},
   "outputs": [],
   "source": [
    "# Load the data (assuming data is loaded from CSV files or a similar source)\n",
    "# Replace these with the actual data loading methods as per your setup\n",
    "sales_value = pd.read_csv('sales_value.csv')\n",
    "sales_units = pd.read_csv('sales_units.csv')\n",
    "price_per_unit = pd.read_csv('price_per_unit.csv')\n",
    "distribution = pd.read_csv('distribution.csv')"
   ]
  },
  {
   "cell_type": "code",
   "execution_count": null,
   "id": "c68dccd4-df4a-4316-a2bc-7e5707f4f9ef",
   "metadata": {},
   "outputs": [],
   "source": [
    "# Basic data engineering: Replace blanks with zeroes\n",
    "sales_value.fillna(0, inplace=True)\n",
    "sales_units.fillna(0, inplace=True)\n",
    "price_per_unit.fillna(0, inplace=True)\n",
    "distribution.fillna(0, inplace=True)\n",
    "\n",
    "# Remove seasonality by differencing\n",
    "sales_value_diff = sales_value.diff(axis=1).fillna(0)\n",
    "sales_units_diff = sales_units.diff(axis=1).fillna(0)\n",
    "price_per_unit_diff = price_per_unit.diff(axis=1).fillna(0)\n",
    "distribution_diff = distribution.diff(axis=1).fillna(0)\n",
    "\n",
    "# Normalize all input features\n",
    "scaler = MinMaxScaler()\n",
    "sales_value_normalized = scaler.fit_transform(sales_value_diff)\n",
    "sales_units_normalized = scaler.fit_transform(sales_units_diff)\n",
    "price_per_unit_normalized = scaler.fit_transform(price_per_unit_diff)\n",
    "distribution_normalized = scaler.fit_transform(distribution_diff)\n",
    "\n",
    "# Combine the normalized features into a single dataset\n",
    "data = np.stack([sales_value_normalized, sales_units_normalized, price_per_unit_normalized, distribution_normalized], axis=-1)"
   ]
  },
  {
   "cell_type": "code",
   "execution_count": null,
   "id": "aaf8f046-d9de-4ed0-afc5-9e8b4f32d521",
   "metadata": {},
   "outputs": [],
   "source": [
    "# Prepare the target variable (Estimated sales units for 52 weeks)\n",
    "# Assuming we want to forecast the last 52 weeks from the normalized sales_units\n",
    "target = sales_units_diff.iloc[:, -52:].sum(axis=1)"
   ]
  },
  {
   "cell_type": "code",
   "execution_count": null,
   "id": "1c6adfd1-7bd4-46f7-989c-49d95f912892",
   "metadata": {},
   "outputs": [],
   "source": [
    "# Split the dataset into train and test sets (60%, 40% split)\n",
    "X_train, X_test, y_train, y_test = train_test_split(data, target, test_size=0.4, random_state=42)"
   ]
  },
  {
   "cell_type": "code",
   "execution_count": null,
   "id": "80521da8-8f38-4a2d-bc28-220a073cb13c",
   "metadata": {},
   "outputs": [],
   "source": [
    "# Perform hyperparameter tuning with auto_arima for ARIMA and SARIMA parameters\n",
    "predicted_sales_units = []\n",
    "for i in range(X_train.shape[0]):\n",
    "    train_series = y_train.iloc[i]\n",
    "    \n",
    "    # Apply auto_arima to find the best parameters\n",
    "    model = auto_arima(\n",
    "        train_series, \n",
    "        start_p=0, max_p=5, \n",
    "        start_q=0, max_q=5,\n",
    "        d=1,  # Differencing parameter\n",
    "        seasonal=True,\n",
    "        start_P=0, max_P=5,\n",
    "        start_Q=0, max_Q=5,\n",
    "        D=1,  # Seasonal differencing parameter\n",
    "        m=52,  # Seasonal period (52 weeks for weekly data with yearly seasonality)\n",
    "        trace=True,  # Output the process of model selection\n",
    "        error_action='ignore',  # Ignore if any errors during the process\n",
    "        suppress_warnings=True,  # Suppress warnings to keep the output clean\n",
    "        stepwise=True,  # Use stepwise approach for faster computation\n",
    "        random_state=42,\n",
    "        n_fits=50  # Number of models to try in random search\n",
    "    )\n",
    "    \n",
    "    # Fit the model\n",
    "    model_fit = model.fit(train_series)\n",
    "    \n",
    "    # Forecast the next 52 weeks\n",
    "    forecast = model_fit.predict(n_periods=52)\n",
    "    \n",
    "    # Sum the forecasted values to get the total sales units for the next 52 weeks\n",
    "    predicted_total_units = np.sum(forecast)\n",
    "    predicted_sales_units.append(predicted_total_units)"
   ]
  },
  {
   "cell_type": "code",
   "execution_count": null,
   "id": "6ae97e23-7262-4d01-80ed-c951349f2b05",
   "metadata": {},
   "outputs": [],
   "source": [
    "# Convert predictions to a numpy array\n",
    "predicted_sales_units = np.array(predicted_sales_units)\n",
    "\n",
    "# Calculate accuracy using Mean Squared Error (MSE)\n",
    "mse = mean_squared_error(y_test, predicted_sales_units)\n",
    "\n",
    "print(f'Mean Squared Error: {mse}')\n",
    "print(f'Predicted sales units: {predicted_sales_units}')\n",
    "\n",
    "# If you want the sum of all predicted sales units across all products:\n",
    "total_predicted_sales_units = np.sum(predicted_sales_units)\n",
    "print(f'Total Predicted Sales Units: {total_predicted_sales_units}')"
   ]
  }
 ],
 "metadata": {
  "kernelspec": {
   "display_name": "Python 3 (ipykernel)",
   "language": "python",
   "name": "python3"
  },
  "language_info": {
   "codemirror_mode": {
    "name": "ipython",
    "version": 3
   },
   "file_extension": ".py",
   "mimetype": "text/x-python",
   "name": "python",
   "nbconvert_exporter": "python",
   "pygments_lexer": "ipython3",
   "version": "3.12.4"
  }
 },
 "nbformat": 4,
 "nbformat_minor": 5
}
